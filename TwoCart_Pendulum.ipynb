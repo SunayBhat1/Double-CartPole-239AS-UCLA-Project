{
 "cells": [
  {
   "cell_type": "code",
   "execution_count": 1,
   "id": "b643d1d5",
   "metadata": {
    "ExecuteTime": {
     "end_time": "2021-04-27T05:29:42.158409Z",
     "start_time": "2021-04-27T05:29:41.451581Z"
    }
   },
   "outputs": [
    {
     "name": "stdout",
     "output_type": "stream",
     "text": [
      "pygame 2.0.1 (SDL 2.0.14, Python 3.7.10)\n",
      "Hello from the pygame community. https://www.pygame.org/contribute.html\n"
     ]
    }
   ],
   "source": [
    "import csv\n",
    "import math\n",
    "import pymunk\n",
    "import pymunk.pygame_util\n",
    "import pyglet\n",
    "import pymunk.constraints\n",
    "import matplotlib.pyplot as plt\n",
    "from pymunk.vec2d import Vec2d\n",
    "import pymunk.matplotlib_util"
   ]
  },
  {
   "cell_type": "code",
   "execution_count": 2,
   "id": "8ebfb8d4",
   "metadata": {
    "ExecuteTime": {
     "end_time": "2021-04-27T05:29:42.183243Z",
     "start_time": "2021-04-27T05:29:42.162111Z"
    }
   },
   "outputs": [
    {
     "name": "stdout",
     "output_type": "stream",
     "text": [
      "cart mass = 0.5 kg\n",
      "pendulum mass = 0.2 kg, pendulum moment = 0.001 kg*m^2\n"
     ]
    }
   ],
   "source": [
    "SCREEN_HEIGHT = 700\n",
    "# window = pyglet.window.Window(1000, SCREEN_HEIGHT, vsync=False, caption='Inverted Pendulum Simulator')\n",
    "\n",
    "# setup the space\n",
    "space = pymunk.Space()\n",
    "space.gravity = 0, -9.8\n",
    "\n",
    "fil = pymunk.ShapeFilter(group=1)\n",
    "\n",
    "# ground\n",
    "ground = pymunk.Segment(space.static_body, (-4, -0.1), (4, -0.1), 0.1)\n",
    "ground.friction = 0.1\n",
    "ground.filter = fil\n",
    "space.add(ground)\n",
    "\n",
    "# cart 1\n",
    "cart1_mass = 0.5\n",
    "cart1_size = 0.3, 0.2\n",
    "cart1_moment = pymunk.moment_for_box(cart1_mass, cart1_size)\n",
    "cart1_body = pymunk.Body(mass=cart1_mass, moment=cart1_moment)\n",
    "cart1_body.position = -0.3, cart1_size[1] / 2\n",
    "cart1_shape = pymunk.Poly.create_box(cart1_body, cart1_size)\n",
    "cart1_shape.friction = ground.friction\n",
    "space.add(cart1_body, cart1_shape)\n",
    "\n",
    "# cart 2\n",
    "cart2_mass = 0.5\n",
    "cart2_size = 0.3, 0.2\n",
    "cart2_moment = pymunk.moment_for_box(cart2_mass, cart2_size)\n",
    "cart2_body = pymunk.Body(mass=cart1_mass, moment=cart2_moment)\n",
    "cart2_body.position = 0.3, cart1_size[1] / 2\n",
    "cart2_shape = pymunk.Poly.create_box(cart2_body, cart2_size)\n",
    "cart2_shape.friction = ground.friction\n",
    "space.add(cart2_body, cart2_shape)\n",
    "\n",
    "\n",
    "# pendulum 1\n",
    "pend1_length = 0.6  # to center of mass\n",
    "pend1_size = 0.01, pend1_length * 2  # to get CoM at 0.6 m\n",
    "pend1_mass = 0.2\n",
    "pend1_moment = 0.001\n",
    "pend1_body = pymunk.Body(mass=pend1_mass, moment=pend1_moment)\n",
    "pend1_body.position = (cart1_body.position[0], cart1_body.position[1] + cart1_size[1] / 2 + pend1_length)\n",
    "# pend1_body.rotation_vector = (0.0, 0.0)\n",
    "pend1_shape = pymunk.Poly.create_box(pend1_body, pend1_size)\n",
    "pend1_shape.filter = fil\n",
    "space.add(pend1_body, pend1_shape)\n",
    "\n",
    "# pendulum 2\n",
    "pend2_length = 0.6  # to center of mass\n",
    "pend2_size = 0.01, pend2_length * 2  # to get CoM at 0.6 m\n",
    "pend2_mass = 0.2\n",
    "pend2_moment = 0.001\n",
    "pend2_body = pymunk.Body(mass=pend2_mass, moment=pend2_moment)\n",
    "pend2_body.position = (cart2_body.position[0], cart2_body.position[1] + cart2_size[1] / 2 + pend2_length)\n",
    "pend2_shape = pymunk.Poly.create_box(pend2_body, pend2_size)\n",
    "pend2_shape.filter = fil\n",
    "space.add(pend2_body, pend2_shape)\n",
    "\n",
    "# joint\n",
    "joint1 = pymunk.constraints.PivotJoint(cart1_body, pend1_body, cart1_body.position + (0, cart1_size[1] / 2))\n",
    "joint1.collide_bodies = False\n",
    "space.add(joint1)\n",
    "\n",
    "# joint 2\n",
    "joint2 = pymunk.constraints.PivotJoint(cart2_body, pend2_body, cart2_body.position + (0, cart1_size[1] / 2))\n",
    "joint2.collide_bodies = False\n",
    "space.add(joint2)\n",
    "\n",
    "# joint 3\n",
    "# joint3 = pymunk.constraints.PivotJoint(pend1_body, pend2_body, (0,cart1_size[1] / 2 + 0.5916))\n",
    "# joint3.collide_bodies = True\n",
    "# space.add(joint3)\n",
    "\n",
    "print(f\"cart mass = {cart1_body.mass:0.1f} kg\")\n",
    "print(f\"pendulum mass = {pend1_body.mass:0.1f} kg, pendulum moment = {pend1_body.moment:0.3f} kg*m^2\")"
   ]
  },
  {
   "cell_type": "code",
   "execution_count": 3,
   "id": "a71a471d",
   "metadata": {
    "ExecuteTime": {
     "end_time": "2021-04-27T05:29:42.524510Z",
     "start_time": "2021-04-27T05:29:42.186097Z"
    }
   },
   "outputs": [
    {
     "data": {
      "image/png": "[encoded data removed]",
      "text/plain": [
       "<Figure size 1008x720 with 1 Axes>"
      ]
     },
     "metadata": {
      "needs_background": "light"
     },
     "output_type": "display_data"
    }
   ],
   "source": [
    "fig = plt.figure(figsize=(14,10))\n",
    "ax = plt.axes(xlim=(-1, 1), ylim=(-1, 1))\n",
    "ax.set_aspect(\"equal\")\n",
    "o = pymunk.matplotlib_util.DrawOptions(ax)\n",
    "space.step(1)\n",
    "space.step(1)\n",
    "space.debug_draw(o)\n",
    "fig.savefig(\"matplotlib_util_demo.png\", bbox_inches=\"tight\")"
   ]
  },
  {
   "cell_type": "code",
   "execution_count": null,
   "id": "7d998fcf",
   "metadata": {},
   "outputs": [],
   "source": []
  },
  {
   "cell_type": "code",
   "execution_count": null,
   "id": "c6a5c4eb",
   "metadata": {},
   "outputs": [],
   "source": []
  }
 ],
 "metadata": {
  "kernelspec": {
   "display_name": "Python 3",
   "language": "python",
   "name": "python3"
  },
  "language_info": {
   "codemirror_mode": {
    "name": "ipython",
    "version": 3
   },
   "file_extension": ".py",
   "mimetype": "text/x-python",
   "name": "python",
   "nbconvert_exporter": "python",
   "pygments_lexer": "ipython3",
   "version": "3.7.10"
  }
 },
 "nbformat": 4,
 "nbformat_minor": 5
}
